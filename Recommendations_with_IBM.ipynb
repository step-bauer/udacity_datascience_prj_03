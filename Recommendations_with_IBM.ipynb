{
 "cells": [
  {
   "cell_type": "markdown",
   "source": [
    "# Recommendations with IBM\r\n",
    "\r\n",
    "In this notebook, you will be putting your recommendation skills to use on real data from the IBM Watson Studio platform. \r\n",
    "\r\n",
    "\r\n",
    "You may either submit your notebook through the workspace here, or you may work from your local machine and submit through the next page.  Either way assure that your code passes the project [RUBRIC](Need to update this).  **Please save regularly.**\r\n",
    "\r\n",
    "By following the table of contents, you will build out a number of different methods for making recommendations that can be used for different situations. \r\n",
    "\r\n",
    "## Pre-Reqs & Python Version\r\n",
    "Notebook code has been executed with python 3.9.5\r\n",
    "\r\n",
    "## Table of Contents\r\n",
    "\r\n",
    "I. [Exploratory Data Analysis](#Exploratory-Data-Analysis)<br>\r\n",
    "II. [Rank Based Recommendations](#Rank)<br>\r\n",
    "III. [User-User Based Collaborative Filtering](#User-User)<br>\r\n",
    "IV. [Content Based Recommendations (EXTRA - NOT REQUIRED)](#Content-Recs)<br>\r\n",
    "V. [Matrix Factorization](#Matrix-Fact)<br>\r\n",
    "VI. [Extras & Concluding](#conclusions)\r\n",
    "\r\n",
    "At the end of the notebook, you will find directions for how to submit your work.  Let's get started by importing the necessary libraries and reading in the data."
   ],
   "metadata": {}
  },
  {
   "cell_type": "code",
   "execution_count": null,
   "source": [
    "# ensure that the correct lib are installed\r\n",
    "!pip install -r requirements.txt"
   ],
   "outputs": [],
   "metadata": {}
  },
  {
   "cell_type": "code",
   "execution_count": 4,
   "source": [
    "import pandas as pd\r\n",
    "import numpy as np\r\n",
    "import matplotlib.pyplot as plt\r\n",
    "import project_tests as t\r\n",
    "\r\n",
    "%matplotlib inline\r\n",
    "\r\n",
    "df = pd.read_csv('data/user-item-interactions.csv')\r\n",
    "df_content = pd.read_csv('data/articles_community.csv')\r\n",
    "del df['Unnamed: 0']\r\n",
    "del df_content['Unnamed: 0']\r\n",
    "\r\n",
    "# Show df to get an idea of the data\r\n",
    "df.head()"
   ],
   "outputs": [
    {
     "output_type": "execute_result",
     "data": {
      "text/plain": [
       "   article_id                                              title  \\\n",
       "0      1430.0  using pixiedust for fast, flexible, and easier...   \n",
       "1      1314.0       healthcare python streaming application demo   \n",
       "2      1429.0         use deep learning for image classification   \n",
       "3      1338.0          ml optimization using cognitive assistant   \n",
       "4      1276.0          deploy your python model as a restful api   \n",
       "\n",
       "                                      email  \n",
       "0  ef5f11f77ba020cd36e1105a00ab868bbdbf7fe7  \n",
       "1  083cbdfa93c8444beaa4c5f5e0f5f9198e4f9e0b  \n",
       "2  b96a4f2e92d8572034b1e9b28f9ac673765cd074  \n",
       "3  06485706b34a5c9bf2a0ecdac41daf7e7654ceb7  \n",
       "4  f01220c46fc92c6e6b161b1849de11faacd7ccb2  "
      ],
      "text/html": [
       "<div>\n",
       "<style scoped>\n",
       "    .dataframe tbody tr th:only-of-type {\n",
       "        vertical-align: middle;\n",
       "    }\n",
       "\n",
       "    .dataframe tbody tr th {\n",
       "        vertical-align: top;\n",
       "    }\n",
       "\n",
       "    .dataframe thead th {\n",
       "        text-align: right;\n",
       "    }\n",
       "</style>\n",
       "<table border=\"1\" class=\"dataframe\">\n",
       "  <thead>\n",
       "    <tr style=\"text-align: right;\">\n",
       "      <th></th>\n",
       "      <th>article_id</th>\n",
       "      <th>title</th>\n",
       "      <th>email</th>\n",
       "    </tr>\n",
       "  </thead>\n",
       "  <tbody>\n",
       "    <tr>\n",
       "      <th>0</th>\n",
       "      <td>1430.0</td>\n",
       "      <td>using pixiedust for fast, flexible, and easier...</td>\n",
       "      <td>ef5f11f77ba020cd36e1105a00ab868bbdbf7fe7</td>\n",
       "    </tr>\n",
       "    <tr>\n",
       "      <th>1</th>\n",
       "      <td>1314.0</td>\n",
       "      <td>healthcare python streaming application demo</td>\n",
       "      <td>083cbdfa93c8444beaa4c5f5e0f5f9198e4f9e0b</td>\n",
       "    </tr>\n",
       "    <tr>\n",
       "      <th>2</th>\n",
       "      <td>1429.0</td>\n",
       "      <td>use deep learning for image classification</td>\n",
       "      <td>b96a4f2e92d8572034b1e9b28f9ac673765cd074</td>\n",
       "    </tr>\n",
       "    <tr>\n",
       "      <th>3</th>\n",
       "      <td>1338.0</td>\n",
       "      <td>ml optimization using cognitive assistant</td>\n",
       "      <td>06485706b34a5c9bf2a0ecdac41daf7e7654ceb7</td>\n",
       "    </tr>\n",
       "    <tr>\n",
       "      <th>4</th>\n",
       "      <td>1276.0</td>\n",
       "      <td>deploy your python model as a restful api</td>\n",
       "      <td>f01220c46fc92c6e6b161b1849de11faacd7ccb2</td>\n",
       "    </tr>\n",
       "  </tbody>\n",
       "</table>\n",
       "</div>"
      ]
     },
     "metadata": {},
     "execution_count": 4
    }
   ],
   "metadata": {
    "collapsed": true
   }
  },
  {
   "cell_type": "code",
   "execution_count": 5,
   "source": [
    "print(f'User-Article dataset shape: {df.shape}')"
   ],
   "outputs": [
    {
     "output_type": "stream",
     "name": "stdout",
     "text": [
      "User-Article dataset shape: (45993, 3)\n"
     ]
    }
   ],
   "metadata": {}
  },
  {
   "cell_type": "code",
   "execution_count": 6,
   "source": [
    "# Show df_content to get an idea of the data\r\n",
    "df_content.head()"
   ],
   "outputs": [
    {
     "output_type": "execute_result",
     "data": {
      "text/plain": [
       "                                            doc_body  \\\n",
       "0  Skip navigation Sign in SearchLoading...\\r\\n\\r...   \n",
       "1  No Free Hunch Navigation * kaggle.com\\r\\n\\r\\n ...   \n",
       "2  ☰ * Login\\r\\n * Sign Up\\r\\n\\r\\n * Learning Pat...   \n",
       "3  DATALAYER: HIGH THROUGHPUT, LOW LATENCY AT SCA...   \n",
       "4  Skip navigation Sign in SearchLoading...\\r\\n\\r...   \n",
       "\n",
       "                                     doc_description  \\\n",
       "0  Detect bad readings in real time using Python ...   \n",
       "1  See the forest, see the trees. Here lies the c...   \n",
       "2  Here’s this week’s news in Data Science and Bi...   \n",
       "3  Learn how distributed DBs solve the problem of...   \n",
       "4  This video demonstrates the power of IBM DataS...   \n",
       "\n",
       "                                       doc_full_name doc_status  article_id  \n",
       "0  Detect Malfunctioning IoT Sensors with Streami...       Live           0  \n",
       "1  Communicating data science: A guide to present...       Live           1  \n",
       "2         This Week in Data Science (April 18, 2017)       Live           2  \n",
       "3  DataLayer Conference: Boost the performance of...       Live           3  \n",
       "4      Analyze NY Restaurant data using Spark in DSX       Live           4  "
      ],
      "text/html": [
       "<div>\n",
       "<style scoped>\n",
       "    .dataframe tbody tr th:only-of-type {\n",
       "        vertical-align: middle;\n",
       "    }\n",
       "\n",
       "    .dataframe tbody tr th {\n",
       "        vertical-align: top;\n",
       "    }\n",
       "\n",
       "    .dataframe thead th {\n",
       "        text-align: right;\n",
       "    }\n",
       "</style>\n",
       "<table border=\"1\" class=\"dataframe\">\n",
       "  <thead>\n",
       "    <tr style=\"text-align: right;\">\n",
       "      <th></th>\n",
       "      <th>doc_body</th>\n",
       "      <th>doc_description</th>\n",
       "      <th>doc_full_name</th>\n",
       "      <th>doc_status</th>\n",
       "      <th>article_id</th>\n",
       "    </tr>\n",
       "  </thead>\n",
       "  <tbody>\n",
       "    <tr>\n",
       "      <th>0</th>\n",
       "      <td>Skip navigation Sign in SearchLoading...\\r\\n\\r...</td>\n",
       "      <td>Detect bad readings in real time using Python ...</td>\n",
       "      <td>Detect Malfunctioning IoT Sensors with Streami...</td>\n",
       "      <td>Live</td>\n",
       "      <td>0</td>\n",
       "    </tr>\n",
       "    <tr>\n",
       "      <th>1</th>\n",
       "      <td>No Free Hunch Navigation * kaggle.com\\r\\n\\r\\n ...</td>\n",
       "      <td>See the forest, see the trees. Here lies the c...</td>\n",
       "      <td>Communicating data science: A guide to present...</td>\n",
       "      <td>Live</td>\n",
       "      <td>1</td>\n",
       "    </tr>\n",
       "    <tr>\n",
       "      <th>2</th>\n",
       "      <td>☰ * Login\\r\\n * Sign Up\\r\\n\\r\\n * Learning Pat...</td>\n",
       "      <td>Here’s this week’s news in Data Science and Bi...</td>\n",
       "      <td>This Week in Data Science (April 18, 2017)</td>\n",
       "      <td>Live</td>\n",
       "      <td>2</td>\n",
       "    </tr>\n",
       "    <tr>\n",
       "      <th>3</th>\n",
       "      <td>DATALAYER: HIGH THROUGHPUT, LOW LATENCY AT SCA...</td>\n",
       "      <td>Learn how distributed DBs solve the problem of...</td>\n",
       "      <td>DataLayer Conference: Boost the performance of...</td>\n",
       "      <td>Live</td>\n",
       "      <td>3</td>\n",
       "    </tr>\n",
       "    <tr>\n",
       "      <th>4</th>\n",
       "      <td>Skip navigation Sign in SearchLoading...\\r\\n\\r...</td>\n",
       "      <td>This video demonstrates the power of IBM DataS...</td>\n",
       "      <td>Analyze NY Restaurant data using Spark in DSX</td>\n",
       "      <td>Live</td>\n",
       "      <td>4</td>\n",
       "    </tr>\n",
       "  </tbody>\n",
       "</table>\n",
       "</div>"
      ]
     },
     "metadata": {},
     "execution_count": 6
    }
   ],
   "metadata": {
    "collapsed": true
   }
  },
  {
   "cell_type": "code",
   "execution_count": 7,
   "source": [
    "print(f'Content dataset shape: {df_content.shape}')\r\n"
   ],
   "outputs": [
    {
     "output_type": "stream",
     "name": "stdout",
     "text": [
      "Content dataset shape: (1056, 5)\n"
     ]
    }
   ],
   "metadata": {}
  },
  {
   "cell_type": "code",
   "execution_count": 8,
   "source": [
    "set_user_articles = set(df['article_id'])\r\n",
    "set_conent_articles = set(df_content['article_id'])\r\n",
    "\r\n",
    "print(f'{\"Number of different articles in user-interactions df\":70}: {len(set_user_articles):5d}')\r\n",
    "print(f'{\"Number of different articles in content df\":70}: {len(set_conent_articles):5d}')\r\n",
    "print(f'{\"Number of user-interaction articles NOT in content df\":70}: {len(set_user_articles - set_conent_articles):5d}')\r\n",
    "print(f'{\"Number of articles in content df and NOT in user-interaction\":70}: {len(set_conent_articles-set_user_articles):5d}')\r\n",
    "print(f'{\"Number of articles in both content df AND user-interaction\":70}: {len(set_conent_articles & set_user_articles):5d}')\r\n"
   ],
   "outputs": [
    {
     "output_type": "stream",
     "name": "stdout",
     "text": [
      "Number of different articles in user-interactions df                  :   714\n",
      "Number of different articles in content df                            :  1051\n",
      "Number of user-interaction articles NOT in content df                 :   277\n",
      "Number of articles in content df and NOT in user-interaction          :   614\n",
      "Number of articles in both content df AND user-interaction            :   437\n"
     ]
    }
   ],
   "metadata": {}
  },
  {
   "cell_type": "markdown",
   "source": [
    "### <a class=\"anchor\" id=\"Exploratory-Data-Analysis\">Part I : Exploratory Data Analysis</a>\r\n",
    "\r\n",
    "Use the dictionary and cells below to provide some insight into the descriptive statistics of the data.\r\n",
    "\r\n",
    "`1.` What is the distribution of how many articles a user interacts with in the dataset?  Provide a visual and descriptive statistics to assist with giving a look at the number of times each user interacts with an article.  "
   ],
   "metadata": {}
  },
  {
   "cell_type": "code",
   "execution_count": 17,
   "source": [
    "# group by email (=by user)\r\n",
    "df_grpby_user = df.groupby('email')\r\n",
    "\r\n",
    "# get number of interactions per user\r\n",
    "df_grpby_user_interactions = df_grpby_user[['article_id']].count()\r\n",
    "# rename the \"count\" columns\r\n",
    "df_grpby_user_interactions.rename(columns={'article_id':'num_of_interactions'}, inplace=True)\r\n",
    "\r\n",
    "# draw history diagram using defined bins\r\n",
    "fig, axs = plt.subplots(figsize=(8, 6))\r\n",
    "df_grpby_user_interactions.hist(bins=[0,1,2,3,4,5,6,7,8,9,10,15,20,25,30,40,50,100], ax=axs)\r\n",
    "fig.savefig('img/hist_interactions.jpg')\r\n"
   ],
   "outputs": [
    {
     "output_type": "display_data",
     "data": {
      "text/plain": [
       "<Figure size 576x432 with 1 Axes>"
      ],
      "image/png": "[encoded data removed]"
     },
     "metadata": {
      "needs_background": "light"
     }
    }
   ],
   "metadata": {
    "collapsed": true
   }
  },
  {
   "cell_type": "code",
   "execution_count": 18,
   "source": [
    "#describe the groupby user interaction dataset\r\n",
    "df_grpby_user_interactions.describe()"
   ],
   "outputs": [
    {
     "output_type": "execute_result",
     "data": {
      "text/plain": [
       "       num_of_interactions\n",
       "count          5148.000000\n",
       "mean              8.930847\n",
       "std              16.802267\n",
       "min               1.000000\n",
       "25%               1.000000\n",
       "50%               3.000000\n",
       "75%               9.000000\n",
       "max             364.000000"
      ],
      "text/html": [
       "<div>\n",
       "<style scoped>\n",
       "    .dataframe tbody tr th:only-of-type {\n",
       "        vertical-align: middle;\n",
       "    }\n",
       "\n",
       "    .dataframe tbody tr th {\n",
       "        vertical-align: top;\n",
       "    }\n",
       "\n",
       "    .dataframe thead th {\n",
       "        text-align: right;\n",
       "    }\n",
       "</style>\n",
       "<table border=\"1\" class=\"dataframe\">\n",
       "  <thead>\n",
       "    <tr style=\"text-align: right;\">\n",
       "      <th></th>\n",
       "      <th>num_of_interactions</th>\n",
       "    </tr>\n",
       "  </thead>\n",
       "  <tbody>\n",
       "    <tr>\n",
       "      <th>count</th>\n",
       "      <td>5148.000000</td>\n",
       "    </tr>\n",
       "    <tr>\n",
       "      <th>mean</th>\n",
       "      <td>8.930847</td>\n",
       "    </tr>\n",
       "    <tr>\n",
       "      <th>std</th>\n",
       "      <td>16.802267</td>\n",
       "    </tr>\n",
       "    <tr>\n",
       "      <th>min</th>\n",
       "      <td>1.000000</td>\n",
       "    </tr>\n",
       "    <tr>\n",
       "      <th>25%</th>\n",
       "      <td>1.000000</td>\n",
       "    </tr>\n",
       "    <tr>\n",
       "      <th>50%</th>\n",
       "      <td>3.000000</td>\n",
       "    </tr>\n",
       "    <tr>\n",
       "      <th>75%</th>\n",
       "      <td>9.000000</td>\n",
       "    </tr>\n",
       "    <tr>\n",
       "      <th>max</th>\n",
       "      <td>364.000000</td>\n",
       "    </tr>\n",
       "  </tbody>\n",
       "</table>\n",
       "</div>"
      ]
     },
     "metadata": {},
     "execution_count": 18
    }
   ],
   "metadata": {
    "collapsed": true
   }
  },
  {
   "cell_type": "code",
   "execution_count": 19,
   "source": [
    "# 50% of individuals interact with ____ number of articles or fewer.\r\n",
    "median_val = 3 \r\n",
    "\r\n",
    "# The maximum number of user-article interactions by any 1 user is ______.\r\n",
    "max_views_by_user = 364 "
   ],
   "outputs": [],
   "metadata": {
    "collapsed": true
   }
  },
  {
   "cell_type": "markdown",
   "source": [
    "`2.` Explore and remove duplicate articles from the **df_content** dataframe.  "
   ],
   "metadata": {}
  },
  {
   "cell_type": "code",
   "execution_count": 20,
   "source": [
    "# Find and explore duplicate articles\r\n",
    "print('Duplicate Articles')\r\n",
    "print(df_content[df_content['article_id'].duplicated()][['article_id','doc_full_name']])"
   ],
   "outputs": [
    {
     "output_type": "stream",
     "name": "stdout",
     "text": [
      "Duplicate Articles\n",
      "     article_id                                      doc_full_name\n",
      "365          50                       Graph-based machine learning\n",
      "692         221  How smart catalogs can turn the big data flood...\n",
      "761         398  Using Apache Spark as a parallel processing fr...\n",
      "970         577                              Use the Primary Index\n",
      "971         232  Self-service data preparation with IBM Data Re...\n"
     ]
    }
   ],
   "metadata": {
    "collapsed": true
   }
  },
  {
   "cell_type": "code",
   "execution_count": 21,
   "source": [
    "# Remove any rows that have the same article_id - only keep the first\r\n",
    "df_content['article_id'].drop_duplicates(keep='first',inplace=True)"
   ],
   "outputs": [],
   "metadata": {
    "collapsed": true
   }
  },
  {
   "cell_type": "markdown",
   "source": [
    "`3.` Use the cells below to find:\r\n",
    "\r\n",
    "**a.** The number of unique articles that have an interaction with a user.  \r\n",
    "**b.** The number of unique articles in the dataset (whether they have any interactions or not).<br>\r\n",
    "**c.** The number of unique users in the dataset. (excluding null values)<br> \r\n",
    "**d.** The number of user-article interactions in the dataset."
   ],
   "metadata": {}
  },
  {
   "cell_type": "code",
   "execution_count": 22,
   "source": [
    "n_articles_with_interaction = df['article_id'].unique().shape[0]\r\n",
    "print(f'{\"num of articles with user interaction\":40}: {n_articles_with_interaction:6}')\r\n",
    "\r\n",
    "n_articles = df_content['article_id'].unique().shape[0]\r\n",
    "print(f'{\"num of articles\":40}: {n_articles:6}')\r\n",
    "\r\n",
    "n_users = df.groupby('email').ngroups\r\n",
    "print(f'{\"num of users\":40}: {n_users:6}')\r\n",
    "\r\n",
    "print(f'{\"NULL Emails\":40}: {df[\"email\"].isnull().sum():6}')\r\n",
    "\r\n",
    "n_user_interactions = df.shape[0]\r\n",
    "print(f'{\"num of users interactions\":40}: {n_user_interactions:6}')\r\n",
    "\r\n",
    "unique_articles = n_articles_with_interaction\r\n",
    "total_articles = n_articles\r\n",
    "unique_users = n_users\r\n",
    "user_article_interactions = n_user_interactions\r\n"
   ],
   "outputs": [
    {
     "output_type": "stream",
     "name": "stdout",
     "text": [
      "num of articles with user interaction   :    714\n",
      "num of articles                         :   1051\n",
      "num of users                            :   5148\n",
      "NULL Emails                             :     17\n",
      "num of users interactions               :  45993\n"
     ]
    }
   ],
   "metadata": {
    "collapsed": true
   }
  },
  {
   "cell_type": "markdown",
   "source": [
    "`4.` Use the cells below to find the most viewed **article_id**, as well as how often it was viewed.  After talking to the company leaders, the `email_mapper` function was deemed a reasonable way to map users to ids.  There were a small number of null values, and it was find using other information that all of these null values likely belonged to a single user."
   ],
   "metadata": {}
  },
  {
   "cell_type": "code",
   "execution_count": 23,
   "source": [
    "print('Count interactions per article')\r\n",
    "df['article_id'].value_counts()"
   ],
   "outputs": [
    {
     "output_type": "stream",
     "name": "stdout",
     "text": [
      "Count interactions per article\n"
     ]
    },
    {
     "output_type": "execute_result",
     "data": {
      "text/plain": [
       "1429.0    937\n",
       "1330.0    927\n",
       "1431.0    671\n",
       "1427.0    643\n",
       "1364.0    627\n",
       "         ... \n",
       "1119.0      1\n",
       "417.0       1\n",
       "724.0       1\n",
       "653.0       1\n",
       "1127.0      1\n",
       "Name: article_id, Length: 714, dtype: int64"
      ]
     },
     "metadata": {},
     "execution_count": 23
    }
   ],
   "metadata": {}
  },
  {
   "cell_type": "code",
   "execution_count": 24,
   "source": [
    "# The most viewed article in the dataset as a string with one value following the decimal \r\n",
    "most_viewed_article_id = df['article_id'].value_counts().index[0] \r\n",
    "\r\n",
    "# The most viewed article in the dataset was viewed how many times?\r\n",
    "max_views = df['article_id'].value_counts().iloc[0] \r\n",
    "\r\n",
    "print(f'Most viewed article: {most_viewed_article_id:5.0f}')\r\n",
    "print(f'NUmber of views    : {max_views:5}')"
   ],
   "outputs": [
    {
     "output_type": "stream",
     "name": "stdout",
     "text": [
      "Most viewed article:  1429\n",
      "NUmber of views    :   937\n"
     ]
    }
   ],
   "metadata": {
    "collapsed": true
   }
  },
  {
   "cell_type": "code",
   "execution_count": 25,
   "source": [
    "## No need to change the code here - this will be helpful for later parts of the notebook\r\n",
    "# Run this cell to map the user email to a user_id column and remove the email column\r\n",
    "\r\n",
    "def email_mapper():\r\n",
    "    coded_dict = dict()\r\n",
    "    cter = 1\r\n",
    "    email_encoded = []\r\n",
    "    \r\n",
    "    for val in df['email']:\r\n",
    "        if val not in coded_dict:\r\n",
    "            coded_dict[val] = cter\r\n",
    "            cter+=1\r\n",
    "        \r\n",
    "        email_encoded.append(coded_dict[val])\r\n",
    "    return email_encoded\r\n",
    "\r\n",
    "email_encoded = email_mapper()\r\n",
    "del df['email']\r\n",
    "df['user_id'] = email_encoded\r\n",
    "\r\n",
    "# show header\r\n",
    "df.head()"
   ],
   "outputs": [
    {
     "output_type": "execute_result",
     "data": {
      "text/plain": [
       "   article_id                                              title  user_id\n",
       "0      1430.0  using pixiedust for fast, flexible, and easier...        1\n",
       "1      1314.0       healthcare python streaming application demo        2\n",
       "2      1429.0         use deep learning for image classification        3\n",
       "3      1338.0          ml optimization using cognitive assistant        4\n",
       "4      1276.0          deploy your python model as a restful api        5"
      ],
      "text/html": [
       "<div>\n",
       "<style scoped>\n",
       "    .dataframe tbody tr th:only-of-type {\n",
       "        vertical-align: middle;\n",
       "    }\n",
       "\n",
       "    .dataframe tbody tr th {\n",
       "        vertical-align: top;\n",
       "    }\n",
       "\n",
       "    .dataframe thead th {\n",
       "        text-align: right;\n",
       "    }\n",
       "</style>\n",
       "<table border=\"1\" class=\"dataframe\">\n",
       "  <thead>\n",
       "    <tr style=\"text-align: right;\">\n",
       "      <th></th>\n",
       "      <th>article_id</th>\n",
       "      <th>title</th>\n",
       "      <th>user_id</th>\n",
       "    </tr>\n",
       "  </thead>\n",
       "  <tbody>\n",
       "    <tr>\n",
       "      <th>0</th>\n",
       "      <td>1430.0</td>\n",
       "      <td>using pixiedust for fast, flexible, and easier...</td>\n",
       "      <td>1</td>\n",
       "    </tr>\n",
       "    <tr>\n",
       "      <th>1</th>\n",
       "      <td>1314.0</td>\n",
       "      <td>healthcare python streaming application demo</td>\n",
       "      <td>2</td>\n",
       "    </tr>\n",
       "    <tr>\n",
       "      <th>2</th>\n",
       "      <td>1429.0</td>\n",
       "      <td>use deep learning for image classification</td>\n",
       "      <td>3</td>\n",
       "    </tr>\n",
       "    <tr>\n",
       "      <th>3</th>\n",
       "      <td>1338.0</td>\n",
       "      <td>ml optimization using cognitive assistant</td>\n",
       "      <td>4</td>\n",
       "    </tr>\n",
       "    <tr>\n",
       "      <th>4</th>\n",
       "      <td>1276.0</td>\n",
       "      <td>deploy your python model as a restful api</td>\n",
       "      <td>5</td>\n",
       "    </tr>\n",
       "  </tbody>\n",
       "</table>\n",
       "</div>"
      ]
     },
     "metadata": {},
     "execution_count": 25
    }
   ],
   "metadata": {
    "collapsed": true
   }
  },
  {
   "cell_type": "code",
   "execution_count": 26,
   "source": [
    "## If you stored all your results in the variable names above, \r\n",
    "## you shouldn't need to change anything in this cell\r\n",
    "\r\n",
    "sol_1_dict = {\r\n",
    "    '`50% of individuals have _____ or fewer interactions.`': median_val,\r\n",
    "    '`The total number of user-article interactions in the dataset is ______.`': user_article_interactions,\r\n",
    "    '`The maximum number of user-article interactions by any 1 user is ______.`': max_views_by_user,\r\n",
    "    '`The most viewed article in the dataset was viewed _____ times.`': max_views,\r\n",
    "    '`The article_id of the most viewed article is ______.`': str(most_viewed_article_id),\r\n",
    "    '`The number of unique articles that have at least 1 rating ______.`': unique_articles,\r\n",
    "    '`The number of unique users in the dataset is ______`': unique_users,\r\n",
    "    '`The number of unique articles on the IBM platform`': total_articles\r\n",
    "}\r\n",
    "\r\n",
    "# Test your dictionary against the solution\r\n",
    "t.sol_1_test(sol_1_dict)"
   ],
   "outputs": [
    {
     "output_type": "stream",
     "name": "stdout",
     "text": [
      "It looks like you have everything right here! Nice job!\n"
     ]
    }
   ],
   "metadata": {
    "collapsed": true
   }
  },
  {
   "cell_type": "markdown",
   "source": [
    "### <a class=\"anchor\" id=\"Rank\">Part II: Rank-Based Recommendations</a>\n",
    "\n",
    "Unlike in the earlier lessons, we don't actually have ratings for whether a user liked an article or not.  We only know that a user has interacted with an article.  In these cases, the popularity of an article can really only be based on how often an article was interacted with.\n",
    "\n",
    "`1.` Fill in the function below to return the **n** top articles ordered with most interactions as the top. Test your function using the tests below."
   ],
   "metadata": {}
  },
  {
   "cell_type": "markdown",
   "source": [
    "#### Functions Top-Articles"
   ],
   "metadata": {}
  },
  {
   "cell_type": "code",
   "execution_count": 27,
   "source": [
    "def get_top_articles(n, df=df):\r\n",
    "    '''\r\n",
    "    INPUT:\r\n",
    "    n - (int) the number of top articles to return\r\n",
    "    df - (pandas dataframe) df as defined at the top of the notebook \r\n",
    "    \r\n",
    "    OUTPUT:\r\n",
    "    top_articles - (list) A list of the top 'n' article titles \r\n",
    "    \r\n",
    "    '''\r\n",
    "    # Your code here    \r\n",
    "    top_articles = list(df.groupby(by='title').count().sort_values(by='user_id', ascending=False).head(n).index)\r\n",
    "    return top_articles\r\n",
    "\r\n",
    "def get_top_article_ids(n, df=df):\r\n",
    "    '''\r\n",
    "    INPUT:\r\n",
    "    n - (int) the number of top articles to return\r\n",
    "    df - (pandas dataframe) df as defined at the top of the notebook \r\n",
    "    \r\n",
    "    OUTPUT:\r\n",
    "    top_articles - (list) A list of the top 'n' article titles \r\n",
    "    \r\n",
    "    '''\r\n",
    "    # Your code here\r\n",
    "    top_articles = df['article_id'].value_counts().index[:n]\r\n",
    "    return top_articles.tolist() # Return the top article ids"
   ],
   "outputs": [],
   "metadata": {
    "collapsed": true
   }
  },
  {
   "cell_type": "code",
   "execution_count": 28,
   "source": [
    "print(get_top_articles(10))\r\n",
    "print(get_top_article_ids(10))"
   ],
   "outputs": [
    {
     "output_type": "stream",
     "name": "stdout",
     "text": [
      "['use deep learning for image classification', 'insights from new york car accident reports', 'visualize car data with brunel', 'use xgboost, scikit-learn & ibm watson machine learning apis', 'predicting churn with the spss random tree algorithm', 'healthcare python streaming application demo', 'finding optimal locations of new store using decision optimization', 'apache spark lab, part 1: basic concepts', 'analyze energy consumption in buildings', 'gosales transactions for logistic regression model']\n",
      "[1429.0, 1330.0, 1431.0, 1427.0, 1364.0, 1314.0, 1293.0, 1170.0, 1162.0, 1304.0]\n"
     ]
    }
   ],
   "metadata": {
    "collapsed": true
   }
  },
  {
   "cell_type": "code",
   "execution_count": 29,
   "source": [
    "# Test your function by returning the top 5, 10, and 20 articles\r\n",
    "top_5 = get_top_articles(5)\r\n",
    "top_10 = get_top_articles(10)\r\n",
    "top_20 = get_top_articles(20)\r\n",
    "\r\n",
    "# Test each of your three lists from above\r\n",
    "t.sol_2_test(get_top_articles)"
   ],
   "outputs": [
    {
     "output_type": "stream",
     "name": "stdout",
     "text": [
      "Your top_5 looks like the solution list! Nice job.\n",
      "Your top_10 looks like the solution list! Nice job.\n",
      "Your top_20 looks like the solution list! Nice job.\n"
     ]
    }
   ],
   "metadata": {
    "collapsed": true
   }
  },
  {
   "cell_type": "markdown",
   "source": [
    "### <a class=\"anchor\" id=\"User-User\">Part III: User-User Based Collaborative Filtering</a>\n",
    "\n",
    "\n",
    "`1.` Use the function below to reformat the **df** dataframe to be shaped with users as the rows and articles as the columns.  \n",
    "\n",
    "* Each **user** should only appear in each **row** once.\n",
    "\n",
    "\n",
    "* Each **article** should only show up in one **column**.  \n",
    "\n",
    "\n",
    "* **If a user has interacted with an article, then place a 1 where the user-row meets for that article-column**.  It does not matter how many times a user has interacted with the article, all entries where a user has interacted with an article should be a 1.  \n",
    "\n",
    "\n",
    "* **If a user has not interacted with an item, then place a zero where the user-row meets for that article-column**. \n",
    "\n",
    "Use the tests to make sure the basic structure of your matrix matches what is expected by the solution."
   ],
   "metadata": {}
  },
  {
   "cell_type": "markdown",
   "source": [
    "#### Functions user_item_matrix"
   ],
   "metadata": {}
  },
  {
   "cell_type": "code",
   "execution_count": 30,
   "source": [
    "# create the user-article matrix with 1's and 0's\r\n",
    "\r\n",
    "def create_user_item_matrix(df):\r\n",
    "    '''\r\n",
    "    INPUT:\r\n",
    "    df - pandas dataframe with article_id, title, user_id columns\r\n",
    "    \r\n",
    "    OUTPUT:\r\n",
    "    user_item - user item matrix \r\n",
    "    \r\n",
    "    Description:\r\n",
    "    Return a matrix with user ids as rows and article ids on the columns with 1 values where a user interacted with \r\n",
    "    an article and a 0 otherwise\r\n",
    "    '''\r\n",
    "    # Fill in the function here\r\n",
    "    user_item = df.drop_duplicates(['user_id','article_id'])    \r\n",
    "    user_item = user_item.set_index(['user_id','article_id']).unstack()\r\n",
    "    user_item.columns = [k[1] for k in user_item.columns.values]\r\n",
    "    \r\n",
    "    user_item[user_item.notnull()]=1\r\n",
    "    user_item[user_item.isnull()]=0\r\n",
    "    return user_item # return the user_item matrix \r\n",
    "\r\n",
    "user_item = create_user_item_matrix(df)"
   ],
   "outputs": [],
   "metadata": {
    "collapsed": true
   }
  },
  {
   "cell_type": "code",
   "execution_count": 31,
   "source": [
    "print(f'User Item shape (#Users, #Articles): {user_item.shape}')"
   ],
   "outputs": [
    {
     "output_type": "stream",
     "name": "stdout",
     "text": [
      "User Item shape (#Users, #Articles): (5149, 714)\n"
     ]
    }
   ],
   "metadata": {}
  },
  {
   "cell_type": "code",
   "execution_count": 32,
   "source": [
    "## Tests: You should just need to run this cell.  Don't change the code.\r\n",
    "assert user_item.shape[0] == 5149, \"Oops!  The number of users in the user-article matrix doesn't look right.\"\r\n",
    "assert user_item.shape[1] == 714, \"Oops!  The number of articles in the user-article matrix doesn't look right.\"\r\n",
    "assert user_item.sum(axis=1)[1] == 36, \"Oops!  The number of articles seen by user 1 doesn't look right.\"\r\n",
    "print(\"You have passed our quick tests!  Please proceed!\")"
   ],
   "outputs": [
    {
     "output_type": "stream",
     "name": "stdout",
     "text": [
      "You have passed our quick tests!  Please proceed!\n"
     ]
    }
   ],
   "metadata": {
    "collapsed": true
   }
  },
  {
   "cell_type": "markdown",
   "source": [
    "`2.` Complete the function below which should take a user_id and provide an ordered list of the most similar users to that user (from most similar to least similar).  The returned result should not contain the provided user_id, as we know that each user is similar to him/herself. Because the results for each user here are binary, it (perhaps) makes sense to compute similarity as the dot product of two users. \n",
    "\n",
    "Use the tests to test your function."
   ],
   "metadata": {}
  },
  {
   "cell_type": "markdown",
   "source": [
    "#### Function find_similar_users"
   ],
   "metadata": {}
  },
  {
   "cell_type": "code",
   "execution_count": 33,
   "source": [
    "def find_similar_users(user_id, user_item=user_item):\r\n",
    "    '''\r\n",
    "    INPUT:\r\n",
    "    user_id - (int) a user_id\r\n",
    "    user_item - (pandas dataframe) matrix of users by articles: \r\n",
    "                1's when a user has interacted with an article, 0 otherwise\r\n",
    "    \r\n",
    "    OUTPUT:\r\n",
    "    similar_users - (list) an ordered list where the closest users (largest dot product users)\r\n",
    "                    are listed first\r\n",
    "    \r\n",
    "    Description:\r\n",
    "    Computes the similarity of every pair of users based on the dot product\r\n",
    "    Returns an ordered\r\n",
    "    \r\n",
    "    '''\r\n",
    "    # compute similarity of each user to the provided user\r\n",
    "    # sort by similarity\r\n",
    "    similarity = user_item.dot(user_item.loc[user_id,:]).sort_values(ascending=False)\r\n",
    "    \r\n",
    "    # create a list of just ids and \r\n",
    "    # remove the own user's id\r\n",
    "    most_similar_users = similarity.index\r\n",
    "    most_similar_users = most_similar_users.drop(user_id).tolist()\r\n",
    "\r\n",
    "    # return a list of the users in order from most to least similar\r\n",
    "    return most_similar_users \r\n",
    "        "
   ],
   "outputs": [],
   "metadata": {
    "collapsed": true
   }
  },
  {
   "cell_type": "code",
   "execution_count": 34,
   "source": [
    "# Do a spot check of your function\r\n",
    "print(\"The 10 most similar users to user 1 are: {}\".format(find_similar_users(1)[:10]))\r\n",
    "print(\"The 5 most similar users to user 3933 are: {}\".format(find_similar_users(3933)[:5]))\r\n",
    "print(\"The 3 most similar users to user 46 are: {}\".format(find_similar_users(46)[:3]))"
   ],
   "outputs": [
    {
     "output_type": "stream",
     "name": "stdout",
     "text": [
      "The 10 most similar users to user 1 are: [3933, 23, 3782, 203, 4459, 3870, 131, 4201, 46, 5041]\n",
      "The 5 most similar users to user 3933 are: [1, 23, 3782, 203, 4459]\n",
      "The 3 most similar users to user 46 are: [4201, 3782, 23]\n"
     ]
    }
   ],
   "metadata": {
    "collapsed": true
   }
  },
  {
   "cell_type": "markdown",
   "source": [
    "`3.` Now that you have a function that provides the most similar users to each user, you will want to use these users to find articles you can recommend.  Complete the functions below to return the articles you would recommend to each user. "
   ],
   "metadata": {}
  },
  {
   "cell_type": "markdown",
   "source": [
    "#### Function get_article_names"
   ],
   "metadata": {}
  },
  {
   "cell_type": "code",
   "execution_count": 35,
   "source": [
    "def get_article_names(article_ids, df=df):\r\n",
    "    '''\r\n",
    "    INPUT:\r\n",
    "    article_ids - (list) a list of article ids\r\n",
    "    df - (pandas dataframe) df as defined at the top of the notebook\r\n",
    "    \r\n",
    "    OUTPUT:\r\n",
    "    article_names - (list) a list of article names associated with the list of article ids \r\n",
    "                    (this is identified by the title column)\r\n",
    "    '''       \r\n",
    "    # create a list of floats (can process str, int and floats)\r\n",
    "    # as the article columns names are floats\r\n",
    "    article_ids = [float(x) for x in article_ids]\r\n",
    "\r\n",
    "    # get unique article names\r\n",
    "    df_unique_titles = df[['article_id','title']].drop_duplicates()    \r\n",
    "\r\n",
    "    article_names = df_unique_titles[df_unique_titles['article_id'].isin(article_ids)]['title']\r\n",
    "\r\n",
    "    # Return the article names associated with list of article ids\r\n",
    "    return article_names.tolist() \r\n",
    "\r\n",
    "\r\n",
    "def get_user_articles(user_id, user_item=user_item):\r\n",
    "    '''\r\n",
    "    INPUT:\r\n",
    "    user_id - (int) a user id\r\n",
    "    user_item - (pandas dataframe) matrix of users by articles: \r\n",
    "                1's when a user has interacted with an article, 0 otherwise\r\n",
    "    \r\n",
    "    OUTPUT:\r\n",
    "    article_ids - (list) a list of the article ids seen by the user\r\n",
    "    article_names - (list) a list of article names associated with the list of article ids \r\n",
    "    \r\n",
    "    Description:\r\n",
    "    Provides a list of the article_ids and article titles that have been seen by a user\r\n",
    "    '''\r\n",
    "    # get article IDs from user_item column names\r\n",
    "    article_ids = user_item.columns[user_item.loc[user_id,:]==1].tolist()\r\n",
    "    article_names = get_article_names(article_ids, df)\r\n",
    "\r\n",
    "    # return the ids and names\r\n",
    "    return article_ids, article_names \r\n",
    "\r\n",
    "\r\n",
    "def user_user_recs(user_id, m=10):\r\n",
    "    '''\r\n",
    "    INPUT:\r\n",
    "    user_id - (int) a user id\r\n",
    "    m - (int) the number of recommendations you want for the user\r\n",
    "    \r\n",
    "    OUTPUT:\r\n",
    "    recs - (list) a list of recommendations for the user by article id\r\n",
    "    rec_names - (list) a list of recommendations for the user by article title\r\n",
    "    \r\n",
    "    Description:\r\n",
    "    Loops through the users based on closeness to the input user_id\r\n",
    "    For each user - finds articles the user hasn't seen before and provides them as recs\r\n",
    "    Does this until m recommendations are found\r\n",
    "    \r\n",
    "    Notes:\r\n",
    "    * Choose the users that have the most total article interactions \r\n",
    "    before choosing those with fewer article interactions.\r\n",
    "\r\n",
    "    * Choose articles with the articles with the most total interactions \r\n",
    "    before choosing those with fewer total interactions. \r\n",
    "   \r\n",
    "    '''\r\n",
    "    # find similar users\r\n",
    "    most_similar_users  = find_similar_users(user_id)\r\n",
    "\r\n",
    "    user_item_ids, _    = get_user_articles(user_id)\r\n",
    "    set_user_item_ids   = set(user_item_ids)\r\n",
    "    \r\n",
    "    # temp sets\r\n",
    "    recs_ids_set    = set()\r\n",
    "    recs_names_set  = set()\r\n",
    "\r\n",
    "    for loop_user_id in most_similar_users:\r\n",
    "        if len(recs_ids_set) > m:\r\n",
    "            break\r\n",
    "\r\n",
    "        rec_id_list, _  = get_user_articles(loop_user_id)\r\n",
    "        recs_ids_set    = recs_ids_set.union(set(rec_id_list) - set_user_item_ids)\r\n",
    "    \r\n",
    "    recs_names_set = get_article_names(list(recs_ids_set))\r\n",
    "\r\n",
    "    return list(recs_ids_set)[:m]"
   ],
   "outputs": [],
   "metadata": {
    "collapsed": true
   }
  },
  {
   "cell_type": "code",
   "execution_count": 36,
   "source": [
    "# Check Results\r\n",
    "get_article_names(user_user_recs(1, 10)) # Return 10 recommendations for user 1"
   ],
   "outputs": [
    {
     "output_type": "execute_result",
     "data": {
      "text/plain": [
       "['got zip code data? prep it for analytics. – ibm watson data lab – medium',\n",
       " 'timeseries data analysis of iot events by using jupyter notebook',\n",
       " 'fertility rate by country in total births per woman',\n",
       " 'shaping data with ibm data refinery',\n",
       " 'this week in data science (april 18, 2017)',\n",
       " 'higher-order logistic regression for large datasets',\n",
       " 'data tidying in data science experience',\n",
       " 'data science platforms are on the rise and ibm is leading the way',\n",
       " 'from scikit-learn model to cloud with wml client',\n",
       " 'from spark ml model to online scoring with scala']"
      ]
     },
     "metadata": {},
     "execution_count": 36
    }
   ],
   "metadata": {}
  },
  {
   "cell_type": "code",
   "execution_count": 37,
   "source": [
    "# Check Results\r\n",
    "user_user_recs(1, 10) # Return 10 recommendations for user 1"
   ],
   "outputs": [
    {
     "output_type": "execute_result",
     "data": {
      "text/plain": [
       "[1025.0, 2.0, 517.0, 1291.0, 524.0, 12.0, 14.0, 16.0, 1298.0, 1299.0]"
      ]
     },
     "metadata": {},
     "execution_count": 37
    }
   ],
   "metadata": {
    "collapsed": true
   }
  },
  {
   "cell_type": "code",
   "execution_count": 38,
   "source": [
    "# Test your functions here - No need to change this code - just run this cell\r\n",
    "assert set(get_article_names(['1024.0', '1176.0', '1305.0', '1314.0', '1422.0', '1427.0'])) == set(['using deep learning to reconstruct high-resolution audio', 'build a python app on the streaming analytics service', 'gosales transactions for naive bayes model', 'healthcare python streaming application demo', 'use r dataframes & ibm watson natural language understanding', 'use xgboost, scikit-learn & ibm watson machine learning apis']), \"Oops! Your the get_article_names function doesn't work quite how we expect.\"\r\n",
    "assert set(get_article_names(['1320.0', '232.0', '844.0'])) == set(['housing (2015): united states demographic measures','self-service data preparation with ibm data refinery','use the cloudant-spark connector in python notebook']), \"Oops! Your the get_article_names function doesn't work quite how we expect.\"\r\n",
    "assert set(get_user_articles(20)[0]) == set([1320.0, 232.0, 844.0])\r\n",
    "assert set(get_user_articles(20)[1]) == set(['housing (2015): united states demographic measures', 'self-service data preparation with ibm data refinery','use the cloudant-spark connector in python notebook'])\r\n",
    "assert set(get_user_articles(2)[0]) == set([1024.0, 1176.0, 1305.0, 1314.0, 1422.0, 1427.0])\r\n",
    "assert set(get_user_articles(2)[1]) == set(['using deep learning to reconstruct high-resolution audio', 'build a python app on the streaming analytics service', 'gosales transactions for naive bayes model', 'healthcare python streaming application demo', 'use r dataframes & ibm watson natural language understanding', 'use xgboost, scikit-learn & ibm watson machine learning apis'])\r\n",
    "print(\"If this is all you see, you passed all of our tests!  Nice job!\")"
   ],
   "outputs": [
    {
     "output_type": "stream",
     "name": "stdout",
     "text": [
      "If this is all you see, you passed all of our tests!  Nice job!\n"
     ]
    }
   ],
   "metadata": {
    "collapsed": true
   }
  },
  {
   "cell_type": "markdown",
   "source": [
    "`4.` Now we are going to improve the consistency of the **user_user_recs** function from above.  \n",
    "\n",
    "* Instead of arbitrarily choosing when we obtain users who are all the same closeness to a given user - choose the users that have the most total article interactions before choosing those with fewer article interactions.\n",
    "\n",
    "\n",
    "* Instead of arbitrarily choosing articles from the user where the number of recommended articles starts below m and ends exceeding m, choose articles with the articles with the most total interactions before choosing those with fewer total interactions. This ranking should be  what would be obtained from the **top_articles** function you wrote earlier."
   ],
   "metadata": {}
  },
  {
   "cell_type": "code",
   "execution_count": 39,
   "source": [
    "def get_top_sorted_users(user_id, df=df, user_item=user_item):\r\n",
    "    '''\r\n",
    "    INPUT:\r\n",
    "    user_id - (int)\r\n",
    "    df - (pandas dataframe) df as defined at the top of the notebook \r\n",
    "    user_item - (pandas dataframe) matrix of users by articles: \r\n",
    "            1's when a user has interacted with an article, 0 otherwise\r\n",
    "    \r\n",
    "            \r\n",
    "    OUTPUT:\r\n",
    "    neighbors_df - (pandas dataframe) a dataframe with:\r\n",
    "                    neighbor_id - is a neighbor user_id\r\n",
    "                    similarity - measure of the similarity of each user to the provided user_id\r\n",
    "                    num_interactions - the number of articles viewed by the user - if a u\r\n",
    "                    \r\n",
    "    Other Details - sort the neighbors_df by the similarity and then by number of interactions where \r\n",
    "                    highest of each is higher in the dataframe\r\n",
    "     \r\n",
    "    '''\r\n",
    "    # Your code here\r\n",
    "    df_grpby_user = df.groupby('user_id')\r\n",
    "    df_grpby_user_interactions = df_grpby_user[['article_id']].count()\r\n",
    "    df_grpby_user_interactions.rename(columns={'article_id':'num_interactions'}, inplace=True)\r\n",
    "\r\n",
    "    similarity = user_item.dot(user_item.loc[user_id,:]).sort_values(ascending=False)\r\n",
    "    similarity.drop(user_id, inplace=True)\r\n",
    "    df_similarity=pd.DataFrame(similarity,columns=['similarity'])\r\n",
    "\r\n",
    "    neighbors_df = df_similarity.merge(df_grpby_user_interactions, on='user_id').sort_values(['similarity','num_interactions'], ascending=False)\r\n",
    "    return neighbors_df # Return the dataframe specified in the doc_string\r\n",
    "\r\n",
    "def get_user_article_ids(user_id, user_item=user_item):\r\n",
    "    '''\r\n",
    "    INPUT:\r\n",
    "    user_id - (int) a user id\r\n",
    "    user_item - (pandas dataframe) matrix of users by articles: \r\n",
    "                1's when a user has interacted with an article, 0 otherwise\r\n",
    "    \r\n",
    "    OUTPUT:\r\n",
    "    article_ids - (list) a list of the article ids seen by the user    \r\n",
    "    \r\n",
    "    Description:\r\n",
    "    Provides a list of the article_ids that have been seen by a user\r\n",
    "    '''\r\n",
    "    # Your code here\r\n",
    "    article_ids = user_item.columns[user_item.loc[user_id,:]==1].tolist()    \r\n",
    "\r\n",
    "    return article_ids # return the ids and names\r\n",
    "\r\n",
    "def user_user_recs_part2(user_id, m=10):\r\n",
    "    '''\r\n",
    "    INPUT:\r\n",
    "    user_id - (int) a user id\r\n",
    "    m - (int) the number of recommendations you want for the user\r\n",
    "    \r\n",
    "    OUTPUT:\r\n",
    "    recs - (list) a list of recommendations for the user by article id\r\n",
    "    rec_names - (list) a list of recommendations for the user by article title\r\n",
    "    \r\n",
    "    Description:\r\n",
    "    Loops through the users based on closeness to the input user_id\r\n",
    "    For each user - finds articles the user hasn't seen before and provides them as recs\r\n",
    "    Does this until m recommendations are found\r\n",
    "    \r\n",
    "    Notes:\r\n",
    "    * Choose the users that have the most total article interactions \r\n",
    "    before choosing those with fewer article interactions.\r\n",
    "\r\n",
    "    * Choose articles with the articles with the most total interactions \r\n",
    "    before choosing those with fewer total interactions. \r\n",
    "   \r\n",
    "    '''\r\n",
    "    # Your code here\r\n",
    "    top_sorted_users = get_top_sorted_users(user_id)\r\n",
    "    \r\n",
    "    user_item_ids = get_user_article_ids(user_id)\r\n",
    "    set_user_item_ids   = set(user_item_ids)\r\n",
    "    #set_user_item_names = set(user_item_names)\r\n",
    "\r\n",
    "    recs_ids_set    = set()\r\n",
    "    recs_names_set  = set()\r\n",
    "\r\n",
    "    for loop_user_id in top_sorted_users.index.tolist():\r\n",
    "        if len(recs_ids_set) > m:\r\n",
    "            break\r\n",
    "\r\n",
    "        rec_id_list = get_user_article_ids(loop_user_id)\r\n",
    "\r\n",
    "        recs_ids_set = recs_ids_set.union(set(rec_id_list) - set_user_item_ids)\r\n",
    "\r\n",
    "    recs_names_set = get_article_names(recs_ids_set)\r\n",
    "\r\n",
    "    return list(recs_ids_set)[:m], list(recs_names_set)[:m]"
   ],
   "outputs": [],
   "metadata": {
    "collapsed": true
   }
  },
  {
   "cell_type": "code",
   "execution_count": 40,
   "source": [
    "# Quick spot check - don't change this code - just use it to test your functions\r\n",
    "rec_ids, rec_names = user_user_recs_part2(20, 10)\r\n",
    "print(\"The top 10 recommendations for user 20 are the following article ids:\")\r\n",
    "print(rec_ids)\r\n",
    "print()\r\n",
    "print(\"The top 10 recommendations for user 20 are the following article names:\")\r\n",
    "print(rec_names)"
   ],
   "outputs": [
    {
     "output_type": "stream",
     "name": "stdout",
     "text": [
      "The top 10 recommendations for user 20 are the following article ids:\n",
      "[1024.0, 12.0, 1296.0, 1304.0, 793.0, 555.0, 1324.0, 302.0, 1329.0, 1330.0]\n",
      "\n",
      "The top 10 recommendations for user 20 are the following article names:\n",
      "['ml optimization using cognitive assistant', 'deploy your python model as a restful api', 'apache spark lab, part 1: basic concepts', 'timeseries data analysis of iot events by using jupyter notebook', 'dsx: hybrid mode', 'predicting churn with the spss random tree algorithm', 'analyze energy consumption in buildings', 'ibm watson facebook posts for 2015', 'use xgboost, scikit-learn & ibm watson machine learning apis', 'apache spark lab, part 3: machine learning']\n"
     ]
    }
   ],
   "metadata": {
    "collapsed": true
   }
  },
  {
   "cell_type": "markdown",
   "source": [
    "`5.` Use your functions from above to correctly fill in the solutions to the dictionary below.  Then test your dictionary against the solution.  Provide the code you need to answer each following the comments below."
   ],
   "metadata": {}
  },
  {
   "cell_type": "code",
   "execution_count": 41,
   "source": [
    "### Tests with a dictionary of results\r\n",
    "\r\n",
    "user1_most_sim = get_top_sorted_users(1).iloc[[0],:].index[0]# Find the user that is most similar to user 1 \r\n",
    "user131_10th_sim = get_top_sorted_users(131).iloc[[9],:].index[0]# Find the 10th most similar user to user 131\r\n",
    "\r\n",
    "print(user1_most_sim)\r\n",
    "print(user131_10th_sim)"
   ],
   "outputs": [
    {
     "output_type": "stream",
     "name": "stdout",
     "text": [
      "3933\n",
      "242\n"
     ]
    }
   ],
   "metadata": {
    "collapsed": true
   }
  },
  {
   "cell_type": "code",
   "execution_count": 42,
   "source": [
    "## Dictionary Test Here\r\n",
    "sol_5_dict = {\r\n",
    "    'The user that is most similar to user 1.': user1_most_sim, \r\n",
    "    'The user that is the 10th most similar to user 131': user131_10th_sim,\r\n",
    "}\r\n",
    "\r\n",
    "t.sol_5_test(sol_5_dict)"
   ],
   "outputs": [
    {
     "output_type": "stream",
     "name": "stdout",
     "text": [
      "This all looks good!  Nice job!\n"
     ]
    }
   ],
   "metadata": {
    "collapsed": true
   }
  },
  {
   "cell_type": "markdown",
   "source": [
    "`6.` If we were given a new user, which of the above functions would you be able to use to make recommendations?  Explain.  Can you think of a better way we might make recommendations?  Use the cell below to explain a better method for new users."
   ],
   "metadata": {}
  },
  {
   "cell_type": "markdown",
   "source": [
    "**Provide your response here.**\r\n",
    "For a new user we can't use similarity because he hasn't read any articles so far and therefore there is no relation to any item (article) at all. For this reason we can use the rank based functions get_top_articles to recommend the most read articles.\r\n",
    "\r\n",
    "A better alternative is to provide either some kind of filter that allows the user to specify some keywords or areas he is interested in (Content based filtering) and/or to let him rate some randomly selected items to use this information for collobarative filtering."
   ],
   "metadata": {}
  },
  {
   "cell_type": "markdown",
   "source": [
    "`7.` Using your existing functions, provide the top 10 recommended articles you would provide for the a new user below.  You can test your function against our thoughts to make sure we are all on the same page with how we might make a recommendation."
   ],
   "metadata": {}
  },
  {
   "cell_type": "code",
   "execution_count": 43,
   "source": [
    "new_user = '0.0'\r\n",
    "\r\n",
    "# What would your recommendations be for this new user '0.0'?  As a new user, they have no observed articles.\r\n",
    "# Provide a list of the top 10 article ids you would give to \r\n",
    "new_user_recs = get_top_article_ids(10)\r\n",
    "new_user_recs\r\n"
   ],
   "outputs": [
    {
     "output_type": "execute_result",
     "data": {
      "text/plain": [
       "[1429.0,\n",
       " 1330.0,\n",
       " 1431.0,\n",
       " 1427.0,\n",
       " 1364.0,\n",
       " 1314.0,\n",
       " 1293.0,\n",
       " 1170.0,\n",
       " 1162.0,\n",
       " 1304.0]"
      ]
     },
     "metadata": {},
     "execution_count": 43
    }
   ],
   "metadata": {
    "collapsed": true
   }
  },
  {
   "cell_type": "code",
   "execution_count": 44,
   "source": [
    "l = [float(k) for k in ['1314.0','1429.0','1293.0','1427.0','1162.0','1364.0','1304.0','1170.0','1431.0','1330.0']]\r\n",
    "assert set(new_user_recs) == set(l), \"Oops!  It makes sense that in this case we would want to recommend the most popular articles, because we don't know anything about these users.\"\r\n",
    "\r\n",
    "print(\"That's right!  Nice job!\")"
   ],
   "outputs": [
    {
     "output_type": "stream",
     "name": "stdout",
     "text": [
      "That's right!  Nice job!\n"
     ]
    }
   ],
   "metadata": {
    "collapsed": true
   }
  },
  {
   "cell_type": "markdown",
   "source": [
    "### <a class=\"anchor\" id=\"Content-Recs\">Part IV: Content Based Recommendations (EXTRA - NOT REQUIRED)</a>\n",
    "\n",
    "Another method we might use to make recommendations is to perform a ranking of the highest ranked articles associated with some term.  You might consider content to be the **doc_body**, **doc_description**, or **doc_full_name**.  There isn't one way to create a content based recommendation, especially considering that each of these columns hold content related information.  \n",
    "\n",
    "`1.` Use the function body below to create a content based recommender.  Since there isn't one right answer for this recommendation tactic, no test functions are provided.  Feel free to change the function inputs if you decide you want to try a method that requires more input values.  The input values are currently set with one idea in mind that you may use to make content based recommendations.  One additional idea is that you might want to choose the most popular recommendations that meet your 'content criteria', but again, there is a lot of flexibility in how you might make these recommendations.\n",
    "\n",
    "### This part is NOT REQUIRED to pass this project.  However, you may choose to take this on as an extra way to show off your skills."
   ],
   "metadata": {}
  },
  {
   "cell_type": "code",
   "execution_count": 45,
   "source": [
    "def make_content_recs():\r\n",
    "    '''\r\n",
    "    INPUT:\r\n",
    "    \r\n",
    "    OUTPUT:\r\n",
    "    \r\n",
    "    '''"
   ],
   "outputs": [],
   "metadata": {
    "collapsed": true
   }
  },
  {
   "cell_type": "markdown",
   "source": [
    "`2.` Now that you have put together your content-based recommendation system, use the cell below to write a summary explaining how your content based recommender works.  Do you see any possible improvements that could be made to your function?  Is there anything novel about your content based recommender?\n",
    "\n",
    "### This part is NOT REQUIRED to pass this project.  However, you may choose to take this on as an extra way to show off your skills."
   ],
   "metadata": {}
  },
  {
   "cell_type": "markdown",
   "source": [
    "**Write an explanation of your content based recommendation system here.**"
   ],
   "metadata": {}
  },
  {
   "cell_type": "markdown",
   "source": [
    "`3.` Use your content-recommendation system to make recommendations for the below scenarios based on the comments.  Again no tests are provided here, because there isn't one right answer that could be used to find these content based recommendations.\n",
    "\n",
    "### This part is NOT REQUIRED to pass this project.  However, you may choose to take this on as an extra way to show off your skills."
   ],
   "metadata": {}
  },
  {
   "cell_type": "code",
   "execution_count": 46,
   "source": [
    "# make recommendations for a brand new user\r\n",
    "\r\n",
    "\r\n",
    "# make a recommendations for a user who only has interacted with article id '1427.0'\r\n",
    "\r\n"
   ],
   "outputs": [],
   "metadata": {
    "collapsed": true
   }
  },
  {
   "cell_type": "markdown",
   "source": [
    "### <a class=\"anchor\" id=\"Matrix-Fact\">Part V: Matrix Factorization</a>\n",
    "\n",
    "In this part of the notebook, you will build use matrix factorization to make article recommendations to the users on the IBM Watson Studio platform.\n",
    "\n",
    "`1.` You should have already created a **user_item** matrix above in **question 1** of **Part III** above.  This first question here will just require that you run the cells to get things set up for the rest of **Part V** of the notebook. "
   ],
   "metadata": {}
  },
  {
   "cell_type": "code",
   "execution_count": 47,
   "source": [
    "# Load the matrix here\r\n",
    "user_item_matrix = pd.read_pickle('user_item_matrix.p')\r\n",
    "#user_item_matrix = user_item"
   ],
   "outputs": [],
   "metadata": {
    "collapsed": true
   }
  },
  {
   "cell_type": "code",
   "execution_count": 48,
   "source": [
    "# quick look at the matrix\r\n",
    "user_item_matrix.head()"
   ],
   "outputs": [
    {
     "output_type": "execute_result",
     "data": {
      "text/plain": [
       "article_id  0.0  100.0  1000.0  1004.0  1006.0  1008.0  101.0  1014.0  1015.0  \\\n",
       "user_id                                                                         \n",
       "1           0.0    0.0     0.0     0.0     0.0     0.0    0.0     0.0     0.0   \n",
       "2           0.0    0.0     0.0     0.0     0.0     0.0    0.0     0.0     0.0   \n",
       "3           0.0    0.0     0.0     0.0     0.0     0.0    0.0     0.0     0.0   \n",
       "4           0.0    0.0     0.0     0.0     0.0     0.0    0.0     0.0     0.0   \n",
       "5           0.0    0.0     0.0     0.0     0.0     0.0    0.0     0.0     0.0   \n",
       "\n",
       "article_id  1016.0  ...  977.0  98.0  981.0  984.0  985.0  986.0  990.0  \\\n",
       "user_id             ...                                                   \n",
       "1              0.0  ...    0.0   0.0    1.0    0.0    0.0    0.0    0.0   \n",
       "2              0.0  ...    0.0   0.0    0.0    0.0    0.0    0.0    0.0   \n",
       "3              0.0  ...    1.0   0.0    0.0    0.0    0.0    0.0    0.0   \n",
       "4              0.0  ...    0.0   0.0    0.0    0.0    0.0    0.0    0.0   \n",
       "5              0.0  ...    0.0   0.0    0.0    0.0    0.0    0.0    0.0   \n",
       "\n",
       "article_id  993.0  996.0  997.0  \n",
       "user_id                          \n",
       "1             0.0    0.0    0.0  \n",
       "2             0.0    0.0    0.0  \n",
       "3             0.0    0.0    0.0  \n",
       "4             0.0    0.0    0.0  \n",
       "5             0.0    0.0    0.0  \n",
       "\n",
       "[5 rows x 714 columns]"
      ],
      "text/html": [
       "<div>\n",
       "<style scoped>\n",
       "    .dataframe tbody tr th:only-of-type {\n",
       "        vertical-align: middle;\n",
       "    }\n",
       "\n",
       "    .dataframe tbody tr th {\n",
       "        vertical-align: top;\n",
       "    }\n",
       "\n",
       "    .dataframe thead th {\n",
       "        text-align: right;\n",
       "    }\n",
       "</style>\n",
       "<table border=\"1\" class=\"dataframe\">\n",
       "  <thead>\n",
       "    <tr style=\"text-align: right;\">\n",
       "      <th>article_id</th>\n",
       "      <th>0.0</th>\n",
       "      <th>100.0</th>\n",
       "      <th>1000.0</th>\n",
       "      <th>1004.0</th>\n",
       "      <th>1006.0</th>\n",
       "      <th>1008.0</th>\n",
       "      <th>101.0</th>\n",
       "      <th>1014.0</th>\n",
       "      <th>1015.0</th>\n",
       "      <th>1016.0</th>\n",
       "      <th>...</th>\n",
       "      <th>977.0</th>\n",
       "      <th>98.0</th>\n",
       "      <th>981.0</th>\n",
       "      <th>984.0</th>\n",
       "      <th>985.0</th>\n",
       "      <th>986.0</th>\n",
       "      <th>990.0</th>\n",
       "      <th>993.0</th>\n",
       "      <th>996.0</th>\n",
       "      <th>997.0</th>\n",
       "    </tr>\n",
       "    <tr>\n",
       "      <th>user_id</th>\n",
       "      <th></th>\n",
       "      <th></th>\n",
       "      <th></th>\n",
       "      <th></th>\n",
       "      <th></th>\n",
       "      <th></th>\n",
       "      <th></th>\n",
       "      <th></th>\n",
       "      <th></th>\n",
       "      <th></th>\n",
       "      <th></th>\n",
       "      <th></th>\n",
       "      <th></th>\n",
       "      <th></th>\n",
       "      <th></th>\n",
       "      <th></th>\n",
       "      <th></th>\n",
       "      <th></th>\n",
       "      <th></th>\n",
       "      <th></th>\n",
       "      <th></th>\n",
       "    </tr>\n",
       "  </thead>\n",
       "  <tbody>\n",
       "    <tr>\n",
       "      <th>1</th>\n",
       "      <td>0.0</td>\n",
       "      <td>0.0</td>\n",
       "      <td>0.0</td>\n",
       "      <td>0.0</td>\n",
       "      <td>0.0</td>\n",
       "      <td>0.0</td>\n",
       "      <td>0.0</td>\n",
       "      <td>0.0</td>\n",
       "      <td>0.0</td>\n",
       "      <td>0.0</td>\n",
       "      <td>...</td>\n",
       "      <td>0.0</td>\n",
       "      <td>0.0</td>\n",
       "      <td>1.0</td>\n",
       "      <td>0.0</td>\n",
       "      <td>0.0</td>\n",
       "      <td>0.0</td>\n",
       "      <td>0.0</td>\n",
       "      <td>0.0</td>\n",
       "      <td>0.0</td>\n",
       "      <td>0.0</td>\n",
       "    </tr>\n",
       "    <tr>\n",
       "      <th>2</th>\n",
       "      <td>0.0</td>\n",
       "      <td>0.0</td>\n",
       "      <td>0.0</td>\n",
       "      <td>0.0</td>\n",
       "      <td>0.0</td>\n",
       "      <td>0.0</td>\n",
       "      <td>0.0</td>\n",
       "      <td>0.0</td>\n",
       "      <td>0.0</td>\n",
       "      <td>0.0</td>\n",
       "      <td>...</td>\n",
       "      <td>0.0</td>\n",
       "      <td>0.0</td>\n",
       "      <td>0.0</td>\n",
       "      <td>0.0</td>\n",
       "      <td>0.0</td>\n",
       "      <td>0.0</td>\n",
       "      <td>0.0</td>\n",
       "      <td>0.0</td>\n",
       "      <td>0.0</td>\n",
       "      <td>0.0</td>\n",
       "    </tr>\n",
       "    <tr>\n",
       "      <th>3</th>\n",
       "      <td>0.0</td>\n",
       "      <td>0.0</td>\n",
       "      <td>0.0</td>\n",
       "      <td>0.0</td>\n",
       "      <td>0.0</td>\n",
       "      <td>0.0</td>\n",
       "      <td>0.0</td>\n",
       "      <td>0.0</td>\n",
       "      <td>0.0</td>\n",
       "      <td>0.0</td>\n",
       "      <td>...</td>\n",
       "      <td>1.0</td>\n",
       "      <td>0.0</td>\n",
       "      <td>0.0</td>\n",
       "      <td>0.0</td>\n",
       "      <td>0.0</td>\n",
       "      <td>0.0</td>\n",
       "      <td>0.0</td>\n",
       "      <td>0.0</td>\n",
       "      <td>0.0</td>\n",
       "      <td>0.0</td>\n",
       "    </tr>\n",
       "    <tr>\n",
       "      <th>4</th>\n",
       "      <td>0.0</td>\n",
       "      <td>0.0</td>\n",
       "      <td>0.0</td>\n",
       "      <td>0.0</td>\n",
       "      <td>0.0</td>\n",
       "      <td>0.0</td>\n",
       "      <td>0.0</td>\n",
       "      <td>0.0</td>\n",
       "      <td>0.0</td>\n",
       "      <td>0.0</td>\n",
       "      <td>...</td>\n",
       "      <td>0.0</td>\n",
       "      <td>0.0</td>\n",
       "      <td>0.0</td>\n",
       "      <td>0.0</td>\n",
       "      <td>0.0</td>\n",
       "      <td>0.0</td>\n",
       "      <td>0.0</td>\n",
       "      <td>0.0</td>\n",
       "      <td>0.0</td>\n",
       "      <td>0.0</td>\n",
       "    </tr>\n",
       "    <tr>\n",
       "      <th>5</th>\n",
       "      <td>0.0</td>\n",
       "      <td>0.0</td>\n",
       "      <td>0.0</td>\n",
       "      <td>0.0</td>\n",
       "      <td>0.0</td>\n",
       "      <td>0.0</td>\n",
       "      <td>0.0</td>\n",
       "      <td>0.0</td>\n",
       "      <td>0.0</td>\n",
       "      <td>0.0</td>\n",
       "      <td>...</td>\n",
       "      <td>0.0</td>\n",
       "      <td>0.0</td>\n",
       "      <td>0.0</td>\n",
       "      <td>0.0</td>\n",
       "      <td>0.0</td>\n",
       "      <td>0.0</td>\n",
       "      <td>0.0</td>\n",
       "      <td>0.0</td>\n",
       "      <td>0.0</td>\n",
       "      <td>0.0</td>\n",
       "    </tr>\n",
       "  </tbody>\n",
       "</table>\n",
       "<p>5 rows × 714 columns</p>\n",
       "</div>"
      ]
     },
     "metadata": {},
     "execution_count": 48
    }
   ],
   "metadata": {
    "collapsed": true
   }
  },
  {
   "cell_type": "markdown",
   "source": [
    "`2.` In this situation, you can use Singular Value Decomposition from [numpy](https://docs.scipy.org/doc/numpy-1.14.0/reference/generated/numpy.linalg.svd.html) on the user-item matrix.  Use the cell to perfrom SVD, and explain why this is different than in the lesson."
   ],
   "metadata": {}
  },
  {
   "cell_type": "code",
   "execution_count": 49,
   "source": [
    "# Perform SVD on the User-Item Matrix Here\r\n",
    "u, s, vt = np.linalg.svd(user_item_matrix.to_numpy()) # use the built in to get the three matrices"
   ],
   "outputs": [],
   "metadata": {
    "collapsed": true
   }
  },
  {
   "cell_type": "markdown",
   "source": [
    "**Provide your response here.**\r\n",
    "The difference is that we have binary values (0,1) and no missing values. Therefore regular SVD can be used."
   ],
   "metadata": {}
  },
  {
   "cell_type": "markdown",
   "source": [
    "`3.` Now for the tricky part, how do we choose the number of latent features to use?  Running the below cell, you can see that as the number of latent features increases, we obtain a lower error rate on making predictions for the 1 and 0 values in the user-item matrix.  Run the cell below to get an idea of how the accuracy improves as we increase the number of latent features."
   ],
   "metadata": {}
  },
  {
   "cell_type": "code",
   "execution_count": 50,
   "source": [
    "num_latent_feats = np.arange(10,700+10,20)\r\n",
    "sum_errs = []\r\n",
    "\r\n",
    "for k in num_latent_feats:\r\n",
    "    # restructure with k latent features\r\n",
    "    s_new, u_new, vt_new = np.diag(s[:k]), u[:, :k], vt[:k, :]\r\n",
    "    \r\n",
    "    # take dot product\r\n",
    "    user_item_est = np.around(np.dot(np.dot(u_new, s_new), vt_new))\r\n",
    "    \r\n",
    "    # compute error for each prediction to actual value\r\n",
    "    diffs = np.subtract(user_item_matrix, user_item_est)\r\n",
    "    \r\n",
    "    # total errors and keep track of them\r\n",
    "    err = np.sum(np.sum(np.abs(diffs)))\r\n",
    "    sum_errs.append(err)\r\n",
    "    \r\n",
    "    \r\n",
    "plt.plot(num_latent_feats, 1 - np.array(sum_errs)/df.shape[0]);\r\n",
    "plt.xlabel('Number of Latent Features');\r\n",
    "plt.ylabel('Accuracy');\r\n",
    "plt.title('Accuracy vs. Number of Latent Features');"
   ],
   "outputs": [
    {
     "output_type": "display_data",
     "data": {
      "text/plain": [
       "<Figure size 432x288 with 1 Axes>"
      ],
      "image/png": "[encoded data removed]"
     },
     "metadata": {
      "needs_background": "light"
     }
    }
   ],
   "metadata": {
    "collapsed": true
   }
  },
  {
   "cell_type": "markdown",
   "source": [
    "`4.` From the above, we can't really be sure how many features to use, because simply having a better way to predict the 1's and 0's of the matrix doesn't exactly give us an indication of if we are able to make good recommendations.  Instead, we might split our dataset into a training and test set of data, as shown in the cell below.  \n",
    "\n",
    "Use the code from question 3 to understand the impact on accuracy of the training and test sets of data with different numbers of latent features. Using the split below: \n",
    "\n",
    "* How many users can we make predictions for in the test set?  \n",
    "* How many users are we not able to make predictions for because of the cold start problem?\n",
    "* How many articles can we make predictions for in the test set?  \n",
    "* How many articles are we not able to make predictions for because of the cold start problem?"
   ],
   "metadata": {}
  },
  {
   "cell_type": "code",
   "execution_count": 51,
   "source": [
    "df_train = df.head(40000)\r\n",
    "df_test = df.tail(5993)\r\n",
    "\r\n",
    "def create_test_and_train_user_item(df_train, df_test):\r\n",
    "    '''\r\n",
    "    INPUT:\r\n",
    "    df_train - training dataframe\r\n",
    "    df_test - test dataframe\r\n",
    "    \r\n",
    "    OUTPUT:\r\n",
    "    user_item_train - a user-item matrix of the training dataframe \r\n",
    "                      (unique users for each row and unique articles for each column)\r\n",
    "    user_item_test - a user-item matrix of the testing dataframe \r\n",
    "                    (unique users for each row and unique articles for each column)\r\n",
    "    test_idx - all of the test user ids\r\n",
    "    test_arts - all of the test article ids\r\n",
    "    \r\n",
    "    '''\r\n",
    "    # Your code here\r\n",
    "    user_item_train = create_user_item_matrix(df_train)\r\n",
    "    user_item_test  = create_user_item_matrix(df_test)\r\n",
    "\r\n",
    "    test_idx = user_item_test.index.tolist()\r\n",
    "    test_arts= user_item_test.columns.tolist()\r\n",
    "    \r\n",
    "    return user_item_train, user_item_test, test_idx, test_arts\r\n",
    "\r\n",
    "user_item_train, user_item_test, test_idx, test_arts = create_test_and_train_user_item(df_train, df_test)"
   ],
   "outputs": [],
   "metadata": {
    "collapsed": true
   }
  },
  {
   "cell_type": "code",
   "execution_count": 52,
   "source": [
    "n_user_no_pred      = len(set(test_idx)- set(user_item_train.index.tolist()))\r\n",
    "n_user_with_pred    = len(set(test_idx).intersection(set(user_item_train.index.tolist())))\r\n",
    "n_articles_with_pred= len(set(test_arts).intersection(set(user_item_train.columns.tolist())) )\r\n",
    "n_articles_no_pred  = len(set(test_arts) -set(user_item_train.columns.tolist()) )\r\n",
    "\r\n",
    "print(f'user with no pred:              {n_user_no_pred:5}')\r\n",
    "print(f'user with possible pred:        {n_user_with_pred:5}')\r\n",
    "print(f'articles with no pred:          {n_articles_no_pred:5}')\r\n",
    "print(f'articles with possible pred:    {n_articles_with_pred:5}')"
   ],
   "outputs": [
    {
     "output_type": "stream",
     "name": "stdout",
     "text": [
      "user with no pred:                662\n",
      "user with possible pred:           20\n",
      "articles with no pred:              0\n",
      "articles with possible pred:      574\n"
     ]
    }
   ],
   "metadata": {}
  },
  {
   "cell_type": "code",
   "execution_count": 53,
   "source": [
    "# Replace the values in the dictionary below\r\n",
    "a = 662 \r\n",
    "b = 574 \r\n",
    "c = 20 \r\n",
    "d = 0 \r\n",
    "\r\n",
    "\r\n",
    "sol_4_dict = {\r\n",
    "    'How many users can we make predictions for in the test set?': c,\r\n",
    "    'How many users in the test set are we not able to make predictions for because of the cold start problem?': a, \r\n",
    "    'How many movies can we make predictions for in the test set?': b,\r\n",
    "    'How many movies in the test set are we not able to make predictions for because of the cold start problem?': d\r\n",
    "}\r\n",
    "\r\n",
    "t.sol_4_test(sol_4_dict)"
   ],
   "outputs": [
    {
     "output_type": "stream",
     "name": "stdout",
     "text": [
      "Awesome job!  That's right!  All of the test movies are in the training data, but there are only 20 test users that were also in the training set.  All of the other users that are in the test set we have no data on.  Therefore, we cannot make predictions for these users using SVD.\n"
     ]
    }
   ],
   "metadata": {
    "collapsed": true
   }
  },
  {
   "cell_type": "markdown",
   "source": [
    "`5.` Now use the **user_item_train** dataset from above to find **U**, **S**, and **V** transpose using SVD. Then find the subset of rows in the **user_item_test** dataset that you can predict using this matrix decomposition with different numbers of latent features to see how many features makes sense to keep based on the accuracy on the test data. This will require combining what was done in questions `2` - `4`.\n",
    "\n",
    "Use the cells below to explore how well SVD works towards making predictions for recommendations on the test data.  "
   ],
   "metadata": {}
  },
  {
   "cell_type": "code",
   "execution_count": 54,
   "source": [
    "# fit SVD on the user_item_train matrix\r\n",
    "u_train, s_train, vt_train = np.linalg.svd(user_item_train.astype('float'),False) # fit svd similar to above then use the cells below"
   ],
   "outputs": [],
   "metadata": {
    "collapsed": true
   }
  },
  {
   "cell_type": "code",
   "execution_count": 55,
   "source": [
    "#\r\n",
    "#   matrix that can be used for predictions ==> user and items are in both sets (test and train)\r\n",
    "# \r\n",
    "predictable_user_train = user_item_train.index.isin(test_idx)\r\n",
    "predictable_items_train= user_item_train.columns.isin(test_arts)\r\n",
    "\r\n",
    "predictable_user_test = user_item_test.index.isin(user_item_train.index)\r\n",
    "\r\n",
    "u_test = u_train[predictable_user_train, :]\r\n",
    "vt_test = vt_train[:, predictable_items_train]"
   ],
   "outputs": [],
   "metadata": {}
  },
  {
   "cell_type": "code",
   "execution_count": 56,
   "source": [
    "num_latent_feats = np.arange(10,700+10,20)\r\n",
    "sum_errs_train = []\r\n",
    "sum_errs_test = []\r\n",
    "\r\n",
    "\r\n",
    "for k in num_latent_feats:\r\n",
    "    # restructure with k latent features\r\n",
    "    s_train_new, u_train_new, vt_train_new = np.diag(s_train[:k]), u_train[:, :k], vt_train[:k, :]\r\n",
    "    u_test_new, vt_test_new = u_test[:, :k], vt_test[:k, :]\r\n",
    "    \r\n",
    "    # take dot product\r\n",
    "    user_train_item_est = np.around(np.dot(np.dot(u_train_new, s_train_new), vt_train_new))\r\n",
    "    user_test_item_est = np.around(np.dot(np.dot(u_test_new, s_train_new), vt_test_new))\r\n",
    "    \r\n",
    "    # compute error for each prediction to actual value\r\n",
    "    train_diffs = np.subtract(user_item_train, user_train_item_est)\r\n",
    "    test_diffs = np.subtract(user_item_test.iloc[predictable_user_test,:], user_test_item_est)\r\n",
    "    \r\n",
    "    # total errors and keep track of them    \r\n",
    "    train_err = np.sum(np.sum(np.abs(train_diffs)))\r\n",
    "    sum_errs_train.append(train_err)\r\n",
    "\r\n",
    "    test_err = np.sum(np.sum(np.abs(test_diffs)))\r\n",
    "    sum_errs_test.append(test_err)"
   ],
   "outputs": [],
   "metadata": {}
  },
  {
   "cell_type": "code",
   "execution_count": 57,
   "source": [
    "#\r\n",
    "#   Plot accuracy test\r\n",
    "#\r\n",
    "fig, axs = plt.subplots(figsize=(8, 6))\r\n",
    "\r\n",
    "\r\n",
    "plt.plot(num_latent_feats, 1 - np.array(sum_errs_test)/df.shape[0], label='test');\r\n",
    "plt.xlabel('Number of Latent Features');\r\n",
    "plt.ylabel('Accuracy');\r\n",
    "plt.title('Accuracy vs. Number of Latent Features');\r\n",
    "plt.legend()\r\n",
    "\r\n",
    "fig.savefig('img/accuracy_test.jpg')"
   ],
   "outputs": [
    {
     "output_type": "display_data",
     "data": {
      "text/plain": [
       "<Figure size 576x432 with 1 Axes>"
      ],
      "image/png": "[encoded data removed]"
     },
     "metadata": {
      "needs_background": "light"
     }
    }
   ],
   "metadata": {}
  },
  {
   "cell_type": "code",
   "execution_count": 59,
   "source": [
    "#\r\n",
    "#   Plot accuracy - compare to train\r\n",
    "#\r\n",
    "fig, axs = plt.subplots(figsize=(8, 6))\r\n",
    "\r\n",
    "plt.plot(num_latent_feats, 1 - np.array(sum_errs_test)/df.shape[0], label='test');\r\n",
    "plt.plot(num_latent_feats, 1 - np.array(sum_errs_train)/df.shape[0],label='train');\r\n",
    "plt.xlabel('Number of Latent Features');\r\n",
    "plt.ylabel('Accuracy');\r\n",
    "plt.title('Accuracy vs. Number of Latent Features');\r\n",
    "plt.legend();\r\n",
    "\r\n",
    "fig.savefig('img/accuracy_traintest.jpg')"
   ],
   "outputs": [
    {
     "output_type": "display_data",
     "data": {
      "text/plain": [
       "<Figure size 576x432 with 1 Axes>"
      ],
      "image/png": "[encoded data removed]"
     },
     "metadata": {
      "needs_background": "light"
     }
    }
   ],
   "metadata": {}
  },
  {
   "cell_type": "markdown",
   "source": [
    "`6.` Use the cell below to comment on the results you found in the previous question. Given the circumstances of your results, discuss what you might do to determine if the recommendations you make with any of the above recommendation systems are an improvement to how users currently find articles? "
   ],
   "metadata": {
    "collapsed": true
   }
  },
  {
   "cell_type": "markdown",
   "source": [
    "**Your response here.**\r\n",
    "#### Review of the results\r\n",
    "The graphs show that increasing the latent feature will not give better results. The opposite is true so increasing latent features will increase the error on the test data set. One problem is that the intersection of users of the test and train data set is very small (20) to make a reliable test (test data set contains 682 users just 20 cann be used to test because just theses 20 are in the train set)\r\n",
    "\r\n",
    "The collaborative filtering is very limited here as many users have just very few interactions (50%<=3>). In addition we  just rely on interactions without knowing if the user really like the article he interacted with. We could improve this by give the user the ability to rate an article (like / dislike, or 0..10 rating)\r\n",
    "\r\n",
    "We could also use content based filtering so that user specifies areas or key words of interest and we use the knowledge of the article topics and content make recommendations.\r\n",
    "\r\n",
    "#### Next Steps - Validate Recommendation Systems\r\n",
    "**A/B Test** approach is a solid procedure to validate if the model brings real benefits in practice.\r\n",
    "\r\n",
    "We could and should also use A/B testing to test how well our recommendation engine is working in practice and to validate our offline testing by a practice experiment. Therefore we will define and execute an AB-Test to answer the questions if the collaborative filtering sysem we developed will increase the average user interactions. \r\n",
    "\r\n",
    "We define Null and alternative Hypothesis and then split users randomly in two groups, a control and an experimental group, when they enter the homepage. \r\n",
    "\r\n",
    "The control group will get recommendations by old recommendation systen (no recommendation at all or recommendation by random  and so on) and the experimental group will get recommendations by new system ( collaborative filtered or by top_articles). \r\n",
    "\r\n",
    "If we have collected enough test data (defined by eperiment sizing) we then can calculate if the average user interactions of the experimental group is greater than the average interactions of the control group and if the calculated statistic is significant to a defined significance level alpha = 0.05 (or any other level based on the certainty we need for alpha or beta error ). \r\n",
    "\r\n",
    "If Null Hypothesis (user interactions of old system-control group- is equal or greate than user interactions of new system ) is rejected then we have a proof that the new recommendation system of the experimental group will improve the user interactions compared to the one used by the control group.\r\n"
   ],
   "metadata": {}
  },
  {
   "cell_type": "code",
   "execution_count": 1,
   "source": [
    "from subprocess import call\r\n",
    "call(['python', '-m', 'nbconvert', 'Recommendations_with_IBM.ipynb', '--to', 'html'])"
   ],
   "outputs": [
    {
     "output_type": "execute_result",
     "data": {
      "text/plain": [
       "0"
      ]
     },
     "metadata": {},
     "execution_count": 1
    }
   ],
   "metadata": {
    "collapsed": true
   }
  },
  {
   "cell_type": "code",
   "execution_count": null,
   "source": [],
   "outputs": [],
   "metadata": {}
  }
 ],
 "metadata": {
  "kernelspec": {
   "name": "python3",
   "display_name": "Python 3.9.5 64-bit ('py39_dsnd': conda)"
  },
  "language_info": {
   "codemirror_mode": {
    "name": "ipython",
    "version": 3
   },
   "file_extension": ".py",
   "mimetype": "text/x-python",
   "name": "python",
   "nbconvert_exporter": "python",
   "pygments_lexer": "ipython3",
   "version": "3.9.5"
  },
  "interpreter": {
   "hash": "bd02d0b26d5bc5489eb8384059ce880300c63d4adcdc7615123473936c1c45dd"
  }
 },
 "nbformat": 4,
 "nbformat_minor": 2
}